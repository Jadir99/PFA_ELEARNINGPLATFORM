{
 "cells": [
  {
   "cell_type": "markdown",
   "metadata": {},
   "source": [
    "### Related Course"
   ]
  },
  {
   "cell_type": "code",
   "execution_count": 16,
   "metadata": {},
   "outputs": [],
   "source": [
    "import numpy as np\n",
    "import pandas as pd\n",
    "import joblib\n",
    "from tensorflow.keras.models import load_model\n",
    "\n",
    "def recommend_courses(user_id, interaction_matrix_path='./CF-Autoencoder/interaction_matrix.npy',\n",
    "                      course_data_path='udemy_courses (1).csv',\n",
    "                      model_path='./CF-Autoencoder/autoencoder_model.keras',\n",
    "                      user_encoder_path='./CF-Autoencoder/user_encoder.pkl',\n",
    "                      course_encoder_path='./CF-Autoencoder/course_encoder.pkl',\n",
    "                      top_n=5):\n",
    "    # Load model and encoders\n",
    "    try:\n",
    "        autoencoder = load_model(model_path)\n",
    "        user_encoder = joblib.load(user_encoder_path)\n",
    "        course_encoder = joblib.load(course_encoder_path)\n",
    "        courses_df = pd.read_csv(course_data_path)\n",
    "        interaction_matrix = np.load(interaction_matrix_path)\n",
    "    except Exception as e:\n",
    "        print(f\"❌ Error loading model or encoders: {e}\")\n",
    "        return []\n",
    "\n",
    "    # Check if user exists\n",
    "    if user_id not in user_encoder.classes_:\n",
    "        print(\"❌ User not found in encoder.\")\n",
    "        return []\n",
    "    # Ensure binary matrix (optional based on training logic)\n",
    "    interaction_matrix = (interaction_matrix > 0).astype(int)\n",
    "\n",
    "    # Get user index\n",
    "    user_idx = user_encoder.transform([user_id])[0]\n",
    "\n",
    "    # Predict course scores (reshape to avoid retracing warnings)\n",
    "    try:\n",
    "        user_input = interaction_matrix[user_idx].reshape(1, -1)\n",
    "        preds = autoencoder.predict(user_input, verbose=0)[0]\n",
    "    except Exception as e:\n",
    "        print(f\"❌ Error during prediction: {e}\")\n",
    "        return []\n",
    "\n",
    "    # Courses already taken\n",
    "    already_taken = set(np.where(interaction_matrix[user_idx] > 0)[0])\n",
    "    print(f\"🧠 Already taken: {len(already_taken)} courses\")\n",
    "\n",
    "    # Rank predictions\n",
    "    top_indices = np.argsort(preds)[::-1]\n",
    "    # Filter already taken and get top_n\n",
    "    recommended_indices = []\n",
    "    for idx in top_indices:\n",
    "        recommended_indices.append(idx)\n",
    "\n",
    "    if len(recommended_indices) < top_n:\n",
    "        print(f\"⚠️ Only {len(recommended_indices)} unseen recommendations found (requested {top_n})\")\n",
    "\n",
    "    # Decode course IDs\n",
    "    try:\n",
    "        recommended_course_ids = course_encoder.inverse_transform(recommended_indices)\n",
    "    except Exception as e:\n",
    "        print(f\"❌ Error decoding course IDs: {e}\")\n",
    "        return []\n",
    "\n",
    "    return recommended_course_ids.tolist()\n"
   ]
  },
  {
   "cell_type": "code",
   "execution_count": 1,
   "metadata": {},
   "outputs": [],
   "source": [
    "import pandas as pd \n",
    "df= pd.read_csv('./udemy_courses (1).csv')"
   ]
  },
  {
   "cell_type": "code",
   "execution_count": 4,
   "metadata": {},
   "outputs": [
    {
     "data": {
      "text/plain": [
       "id\n",
       "567828     1\n",
       "387320     1\n",
       "444004     1\n",
       "2661384    1\n",
       "275992     1\n",
       "          ..\n",
       "1130954    1\n",
       "847476     1\n",
       "4287908    1\n",
       "5277072    1\n",
       "2341728    1\n",
       "Name: count, Length: 98104, dtype: int64"
      ]
     },
     "execution_count": 4,
     "metadata": {},
     "output_type": "execute_result"
    }
   ],
   "source": [
    "df['id'].value_counts()"
   ]
  },
  {
   "cell_type": "code",
   "execution_count": null,
   "metadata": {},
   "outputs": [],
   "source": [
    "\n",
    "# Recommendation function (copied from your input)\n",
    "def recommend_courses(user_id, interaction_matrix_path='./CF-Autoencoder/interaction_matrix.npy',\n",
    "                      course_data_path='udemy_courses (1).csv',\n",
    "                      model_path='./CF-Autoencoder/autoencoder_model.keras',\n",
    "                      user_encoder_path='./CF-Autoencoder/user_encoder.pkl',\n",
    "                      course_encoder_path='./CF-Autoencoder/course_encoder.pkl',\n",
    "                      top_n=5):\n",
    "    try:\n",
    "        autoencoder = load_model(model_path)\n",
    "        user_encoder = joblib.load(user_encoder_path)\n",
    "        course_encoder = joblib.load(course_encoder_path)\n",
    "        courses_df = pd.read_csv(course_data_path)\n",
    "        interaction_matrix = np.load(interaction_matrix_path)\n",
    "    except Exception as e:\n",
    "        return {\"error\": f\"Error loading model or encoders: {e}\"}\n",
    "\n",
    "    if user_id not in user_encoder.classes_:\n",
    "        return {\"error\": \"User not found in encoder.\"}\n",
    "\n",
    "    interaction_matrix = (interaction_matrix > 0).astype(int)\n",
    "    user_idx = user_encoder.transform([user_id])[0]\n",
    "\n",
    "    try:\n",
    "        user_input = interaction_matrix[user_idx].reshape(1, -1)\n",
    "        preds = autoencoder.predict(user_input, verbose=0)[0]\n",
    "    except Exception as e:\n",
    "        return {\"error\": f\"Error during prediction: {e}\"}\n",
    "\n",
    "    already_taken = set(np.where(interaction_matrix[user_idx] > 0)[0])\n",
    "    top_indices = np.argsort(preds)[::-1]\n",
    "\n",
    "    recommended_indices = [idx for idx in top_indices if idx not in already_taken][:top_n]\n",
    "\n",
    "    if not recommended_indices:\n",
    "        return {\"warning\": \"No new recommendations found.\"}\n",
    "\n",
    "    try:\n",
    "        recommended_course_ids = course_encoder.inverse_transform(recommended_indices)\n",
    "    except Exception as e:\n",
    "        return {\"error\": f\"Error decoding course IDs: {e}\"}\n",
    "\n",
    "    return {\n",
    "        \"user_id\": user_id,\n",
    "        \"recommended_courses\": recommended_course_ids.tolist()\n",
    "    }\n",
    "\n",
    "# Flask endpoint\n",
    "@app.route('/recommend-cf', methods=['GET'])\n",
    "def recommend():\n",
    "    user_id = request.args.get('user_id')\n",
    "    if not user_id:\n",
    "        return jsonify({\"error\": \"Missing user_id parameter\"}), 400\n",
    "\n",
    "    result = recommend_courses(user_id)\n",
    "    return jsonify(result)\n"
   ]
  }
 ],
 "metadata": {
  "kernelspec": {
   "display_name": "Python 3",
   "language": "python",
   "name": "python3"
  },
  "language_info": {
   "codemirror_mode": {
    "name": "ipython",
    "version": 3
   },
   "file_extension": ".py",
   "mimetype": "text/x-python",
   "name": "python",
   "nbconvert_exporter": "python",
   "pygments_lexer": "ipython3",
   "version": "3.12.4"
  }
 },
 "nbformat": 4,
 "nbformat_minor": 2
}
