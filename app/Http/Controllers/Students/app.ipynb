{
 "cells": [
  {
   "cell_type": "code",
   "execution_count": 1,
   "id": "5751e364",
   "metadata": {},
   "outputs": [
    {
     "name": "stdout",
     "output_type": "stream",
     "text": [
      " * Serving Flask app '__main__'\n",
      " * Debug mode: off\n"
     ]
    },
    {
     "name": "stderr",
     "output_type": "stream",
     "text": [
      "WARNING: This is a development server. Do not use it in a production deployment. Use a production WSGI server instead.\n",
      " * Running on http://127.0.0.1:5000\n",
      "Press CTRL+C to quit\n",
      "127.0.0.1 - - [30/Apr/2025 18:32:42] \"GET / HTTP/1.1\" 404 -\n",
      "127.0.0.1 - - [30/Apr/2025 18:32:42] \"GET /favicon.ico HTTP/1.1\" 404 -\n",
      "127.0.0.1 - - [30/Apr/2025 18:33:46] \"POST /hello HTTP/1.1\" 200 -\n",
      "127.0.0.1 - - [30/Apr/2025 18:33:47] \"POST /hello HTTP/1.1\" 200 -\n"
     ]
    }
   ],
   "source": [
    "# api.py\n",
    "from flask import Flask, request, jsonify\n",
    "\n",
    "app = Flask(__name__)\n",
    "\n",
    "def say_hello(name):\n",
    "    return f\"Hello, {name}\"\n",
    "\n",
    "@app.route('/hello', methods=['POST'])\n",
    "def hello():\n",
    "    data = request.json\n",
    "    name = data.get('name')\n",
    "    return jsonify({'message': say_hello(name)})\n",
    "\n",
    "if __name__ == '__main__':\n",
    "    app.run(port=5000)\n"
   ]
  }
 ],
 "metadata": {
  "kernelspec": {
   "display_name": "Python 3",
   "language": "python",
   "name": "python3"
  },
  "language_info": {
   "codemirror_mode": {
    "name": "ipython",
    "version": 3
   },
   "file_extension": ".py",
   "mimetype": "text/x-python",
   "name": "python",
   "nbconvert_exporter": "python",
   "pygments_lexer": "ipython3",
   "version": "3.12.4"
  }
 },
 "nbformat": 4,
 "nbformat_minor": 5
}
